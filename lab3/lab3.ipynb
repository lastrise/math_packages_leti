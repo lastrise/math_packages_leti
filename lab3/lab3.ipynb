{
 "cells": [
  {
   "cell_type": "markdown",
   "metadata": {},
   "source": [
    "# Лабораторная работа №3"
   ]
  },
  {
   "cell_type": "markdown",
   "metadata": {},
   "source": [
    "Цель работы – практическое применение библиотеки символьных вычислений Python (SymPy) для решения задач дискретной математики и математической логики.\n",
    "<br>\n",
    "Вариант 33"
   ]
  },
  {
   "cell_type": "markdown",
   "metadata": {},
   "source": [
    "### 1 - Диофантовое уравнение"
   ]
  },
  {
   "cell_type": "markdown",
   "metadata": {},
   "source": [
    "$$ 4853x − 6417y = −161 $$"
   ]
  },
  {
   "cell_type": "code",
   "execution_count": 8,
   "metadata": {},
   "outputs": [
    {
     "name": "stdout",
     "output_type": "stream",
     "text": [
      "x = 279*t_0 + 833\n",
      "y = 211*t_0 + 630\n"
     ]
    }
   ],
   "source": [
    "from sympy.solvers.diophantine import diophantine\n",
    "from sympy import var\n",
    "\n",
    "x, y = var('x y')\n",
    "x, y = list(diophantine(4853*x - 6417*y + 161))[0]\n",
    "print(f'x = {x}')\n",
    "print(f'y = {y}')"
   ]
  },
  {
   "cell_type": "markdown",
   "metadata": {},
   "source": [
    "### 2 - Имея открытую часть ключа RSA найти соответствующую закрытую часть и расшифровать кодированное слово."
   ]
  },
  {
   "cell_type": "markdown",
   "metadata": {},
   "source": [
    "Русское слово из четырех букв закодировано при помощи алгоритма RSA открытым ключом (e = 11,m = 34).\n",
    "Шифрованное сообщение имеет вид (15; 31; 7; 13). Подберите закрытую часть ключа и прочитайте исходное слово.\n",
    "Буквам русского алфавита соответсвуют числа в диапазоне от 2 до 32 (исключены буквы “e” и “ъ”)."
   ]
  },
  {
   "cell_type": "code",
   "execution_count": 25,
   "metadata": {},
   "outputs": [
    {
     "name": "stdout",
     "output_type": "stream",
     "text": [
      "зебу\n"
     ]
    }
   ],
   "source": [
    "from sympy.crypto.crypto import rsa_private_key\n",
    "from sympy.crypto.crypto import decipher_rsa, encipher_rsa\n",
    "alphabet = \"абвгдежзийклмнопрстуфхцчшщыьэюя\"\n",
    "print(f\"{''.join([alphabet[decipher_rsa(char, rsa_private_key(34, 11)) - 2] for char in [15, 31, 7, 13]])}\")"
   ]
  },
  {
   "cell_type": "markdown",
   "metadata": {},
   "source": [
    "### Преобразование булевой функции\n",
    "\n",
    "Записать в формате ДНФ и КНФ булеву функцию, заданную своим аналитическим\n",
    "выражением.<br>\n",
    "Вариант 43<br>\n",
    " \n",
    " $$f(x, y, z) = ( ( x \\lor y ) \\newcommand*\\xor{\\oplus} z ))(yz \\newcommand*\\xor{\\oplus} ( x \\lor z )) $$\n"
   ]
  },
  {
   "cell_type": "code",
   "execution_count": 21,
   "metadata": {},
   "outputs": [],
   "source": [
    "from sympy.logic.boolalg import *"
   ]
  },
  {
   "cell_type": "code",
   "execution_count": 23,
   "metadata": {},
   "outputs": [
    {
     "name": "stdout",
     "output_type": "stream",
     "text": [
      "КНФ = (x | z) & (x | ~y) & (~x | ~z)\n"
     ]
    }
   ],
   "source": [
    "x, y, z=var('x y z')\n",
    "print(f\"КНФ = {to_cnf( ( (x | y) ^ z ) & ( (y & z) ^ (x | z) ), True)}\")"
   ]
  },
  {
   "cell_type": "code",
   "execution_count": 24,
   "metadata": {},
   "outputs": [
    {
     "name": "stdout",
     "output_type": "stream",
     "text": [
      "ДНФ = (x & ~z) | (z & ~x & ~y)\n"
     ]
    }
   ],
   "source": [
    "print(f\"ДНФ = {to_dnf( ( (x | y) ^ z ) & ( (y & z) ^ (x | z) ), True)}\")"
   ]
  }
 ],
 "metadata": {
  "kernelspec": {
   "display_name": "Python 3 (ipykernel)",
   "language": "python",
   "name": "python3"
  },
  "language_info": {
   "codemirror_mode": {
    "name": "ipython",
    "version": 3
   },
   "file_extension": ".py",
   "mimetype": "text/x-python",
   "name": "python",
   "nbconvert_exporter": "python",
   "pygments_lexer": "ipython3",
   "version": "3.9.9"
  }
 },
 "nbformat": 4,
 "nbformat_minor": 4
}
